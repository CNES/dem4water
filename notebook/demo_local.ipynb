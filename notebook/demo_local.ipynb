{
 "cells": [
  {
   "cell_type": "markdown",
   "id": "90f05ffc-759a-41ae-b281-466ae9c937ef",
   "metadata": {},
   "source": [
    "It is assumed that you have installed jupyter notebook in order to run this demo.\n",
    "\n",
    "You have to ensure that you have all requirement to proceed the `pip install gdal`without issue."
   ]
  },
  {
   "cell_type": "code",
   "execution_count": null,
   "id": "c4b56939-a3fe-4b5d-9c10-3f654d63c0f4",
   "metadata": {},
   "outputs": [],
   "source": [
    "# Clone the source if needed in the desired folder\n",
    "!cd XXXX\n",
    "!git clone https://github.com/CNES/dem4water.git"
   ]
  },
  {
   "cell_type": "code",
   "execution_count": null,
   "id": "244921cd-faba-4d9f-b81f-a628543bfacb",
   "metadata": {},
   "outputs": [],
   "source": [
    "# Install dem4water\n",
    "!pip install -e ."
   ]
  },
  {
   "cell_type": "markdown",
   "id": "9a17e1ab-6df6-42d8-a44d-c348569aed52",
   "metadata": {},
   "source": [
    "You need to fill a configuration json file\n",
    "\n",
    "An example is provided in notebook/demo_cfg.json\n",
    "\n",
    "You have to update the `output_path`\n",
    "\n",
    "If you want to download the DEM, let `dem` to `null` and set the parameter `retrieve_mode` to `cop30`\n",
    "\n",
    "If you have a DEM already downloaded, fill the `dem` field with the path and set `retrieve_mode` to `local`.\n",
    "\n",
    "Note that you need only one file or create a vrt\n",
    "\n"
   ]
  },
  {
   "cell_type": "code",
   "execution_count": null,
   "id": "5488bc01-6499-452e-97d3-1225e0c4a122",
   "metadata": {},
   "outputs": [],
   "source": [
    "# Export the key if you download the DEM\n",
    "!export OPENTOPOGRAPHY_API_KEY=REPLACE_WITH_YOUR_OWN_KEY"
   ]
  },
  {
   "cell_type": "code",
   "execution_count": null,
   "id": "f27a85ed-13e9-428e-ad8c-e9aad1b5c5a8",
   "metadata": {},
   "outputs": [],
   "source": [
    "# Launch the campaign\n",
    "dem4water campaign -json_campaign XXXXX/demo_cfg.json -scheduler_type local"
   ]
  }
 ],
 "metadata": {
  "kernelspec": {
   "display_name": "Python 3 (ipykernel)",
   "language": "python",
   "name": "python3"
  },
  "language_info": {
   "codemirror_mode": {
    "name": "ipython",
    "version": 3
   },
   "file_extension": ".py",
   "mimetype": "text/x-python",
   "name": "python",
   "nbconvert_exporter": "python",
   "pygments_lexer": "ipython3",
   "version": "3.8.18"
  }
 },
 "nbformat": 4,
 "nbformat_minor": 5
}
