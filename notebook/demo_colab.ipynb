{
 "cells": [
  {
   "cell_type": "markdown",
   "id": "maZwY1Wba82t",
   "metadata": {
    "id": "maZwY1Wba82t"
   },
   "source": [
    "After launching the following command, several prompt ask you for permissions."
   ]
  },
  {
   "cell_type": "code",
   "execution_count": null,
   "id": "626391b2-d05f-464a-8b92-90c4a0f66b30",
   "metadata": {
    "colab": {
     "base_uri": "https://localhost:8080/"
    },
    "id": "626391b2-d05f-464a-8b92-90c4a0f66b30",
    "outputId": "46378e73-74a6-491b-ec41-e77b8768078b",
    "scrolled": true
   },
   "outputs": [],
   "source": [
    "from google.colab import drive\n",
    "drive.mount('/content/gdrive')"
   ]
  },
  {
   "cell_type": "markdown",
   "id": "2un7jgf_cAk4",
   "metadata": {
    "id": "2un7jgf_cAk4"
   },
   "source": [
    "Clone the source or copy code source to your drive"
   ]
  },
  {
   "cell_type": "code",
   "execution_count": null,
   "id": "7cfc2f49-1112-4eb7-b751-db1ce1a8113a",
   "metadata": {
    "id": "7cfc2f49-1112-4eb7-b751-db1ce1a8113a"
   },
   "outputs": [],
   "source": [
    "# Clone code source from github\n",
    "!git clone https://github.com/CNES/dem4water.git /content/gdrive/MyDrive/dem4water"
   ]
  },
  {
   "cell_type": "code",
   "execution_count": null,
   "id": "2258aa46-9dc0-432c-b1e5-3e24d7fbeec2",
   "metadata": {
    "colab": {
     "base_uri": "https://localhost:8080/"
    },
    "id": "2258aa46-9dc0-432c-b1e5-3e24d7fbeec2",
    "outputId": "7af5fa89-0b23-4a6f-ddd8-b05be6d2aec9"
   },
   "outputs": [],
   "source": [
    "# Go to your code source and install it with pip\n",
    "!cd /content/gdrive/MyDrive/dem4water ; pip install -e ."
   ]
  },
  {
   "cell_type": "markdown",
   "id": "h_5gTqhXcQEC",
   "metadata": {
    "id": "h_5gTqhXcQEC"
   },
   "source": [
    "You must have a api key in order to download Copernicus DEM.\n",
    "\n",
    "To get your APIKEY : https://opentopography.org/blog/introducing-api-keys-access-opentopography-global-datasets\n"
   ]
  },
  {
   "cell_type": "markdown",
   "id": "I0Ct1jV2c2U5",
   "metadata": {
    "id": "I0Ct1jV2c2U5"
   },
   "source": [
    "In the code source you get a prefilled configuration file.\n",
    "\n",
    "Open it in your google drive and edit the output_path to be consistent with the paths used.\n",
    "\n",
    "Then you are ready to launch the campaign"
   ]
  },
  {
   "cell_type": "code",
   "execution_count": null,
   "id": "9905d9a5-f75d-4b23-ba90-d034bd311df0",
   "metadata": {
    "id": "9905d9a5-f75d-4b23-ba90-d034bd311df0"
   },
   "outputs": [],
   "source": [
    "# Export the key then launch a full campaign\n",
    "!export OPENTOPOGRAPHY_API_KEY=REPLACE_WITH_YOUR_OWN_KEY; dem4water campaign -json_campaign /content/gdrive/MyDrive/dem4water/data/occitanie/params_campaign_occitanie_ref.json -scheduler_type local"
   ]
  },
  {
   "cell_type": "markdown",
   "id": "930dbd60-62b2-4c40-9ad6-23c1e3569e08",
   "metadata": {},
   "source": [
    "It is also possible to run the chain with manual corrections of several files\n",
    "\n",
    "The following files can be corrected:\n",
    "- DAMNAME_daminfo.json\n",
    "- DAMNAME_cutline.json\n",
    "\n",
    "All corrected files must be provided into a single folder, the chain will automatically detect them. Ensure you keep the DAMNAME unmodified.\n",
    "\n",
    "When corrections are provided, files with suffix \"custom\" will appear in the camp folder. \n",
    "\n",
    "To process only a group of dams, the parameter `input_force_list` allows to provide a list of dams. In this case, only dams in this list will be processed."
   ]
  },
  {
   "cell_type": "code",
   "execution_count": null,
   "id": "gv_G_2P0b9EN",
   "metadata": {
    "id": "gv_G_2P0b9EN"
   },
   "outputs": [],
   "source": [
    "# Export the key then launch a full campaign\n",
    "!export OPENTOPOGRAPHY_API_KEY=REPLACE_WITH_YOUR_OWN_KEY; dem4water campaign -json_campaign /content/gdrive/MyDrive/dem4water/data/occitanie/params_campaign_occitanie_ref_with_correction.json -scheduler_type local -input_force_list /content/gdrive/MyDrive/dem4water/data/occitanie/occitanie.lst"
   ]
  }
 ],
 "metadata": {
  "colab": {
   "provenance": []
  },
  "kernelspec": {
   "display_name": "Python 3 (ipykernel)",
   "language": "python",
   "name": "python3"
  },
  "language_info": {
   "codemirror_mode": {
    "name": "ipython",
    "version": 3
   },
   "file_extension": ".py",
   "mimetype": "text/x-python",
   "name": "python",
   "nbconvert_exporter": "python",
   "pygments_lexer": "ipython3",
   "version": "3.8.18"
  }
 },
 "nbformat": 4,
 "nbformat_minor": 5
}
